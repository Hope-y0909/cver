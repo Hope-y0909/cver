{
 "cells": [
  {
   "cell_type": "code",
   "execution_count": null,
   "metadata": {},
   "outputs": [],
   "source": [
    "import numpy as np\n",
    "import cv2 as cv\n",
    "from matplotlib  import pyplot as plot"
   ]
  },
  {
   "cell_type": "code",
   "execution_count": null,
   "metadata": {},
   "outputs": [],
   "source": [
    "img=plot.imread(\"img/1.jpg\")#imread r,g,b\n",
    "#img=cv.imread(\"test.jpg\") #imread b,g,r\n",
    "plot.imshow(img)\n",
    "# plot.xticks([])\n",
    "# plot.yticks([])\n",
    "plot.show()\n",
    "height, width = img.shape[0:2]"
   ]
  },
  {
   "cell_type": "code",
   "execution_count": null,
   "metadata": {},
   "outputs": [],
   "source": [
    "x=np.uint8([250])\n",
    "y=np.uint8([10])\n",
    "print(x)\n",
    "print(y)\n",
    "print(cv.add(x,y))\n",
    "print(x+y)"
   ]
  },
  {
   "cell_type": "code",
   "execution_count": null,
   "metadata": {},
   "outputs": [],
   "source": [
    "pts1=np.float32([[50,50],[200,50],[50,200]])\n",
    "pts2=np.float32([[10,100],[200,50],[100,250]])\n",
    "M = cv.getAffineTransform(pts1, pts2)\n",
    "dst = cv.warpAffine(img,M,(width,height))\n",
    "plot.subplot(121),plot.imshow(img),plot.title(\"input\")\n",
    "plot.subplot(122),plot.imshow(dst),plot.title(\"output\")"
   ]
  },
  {
   "cell_type": "code",
   "execution_count": null,
   "metadata": {},
   "outputs": [],
   "source": [
    "pts1 = np.float32([[100,100],[800,100],[100,300],[800,390]])\n",
    "pts2 = np.float32([[0,0],[300,0],[0,300],[300,300]])\n",
    "M = cv.getPerspectiveTransform(pts1, pts2)\n",
    "dst = cv.warpPerspective(img,M, (300,300))\n",
    "plot.subplot(121),plot.imshow(img),plot.title(\"input\")\n",
    "plot.subplot(122),plot.imshow(dst),plot.title(\"output\")"
   ]
  }
 ],
 "metadata": {
  "kernelspec": {
   "display_name": "Python 2.7.17 64-bit",
   "metadata": {
    "interpreter": {
     "hash": "767d51c1340bd893661ea55ea3124f6de3c7a262a8b4abca0554b478b1e2ff90"
    }
   },
   "name": "python3"
  },
  "language_info": {
   "codemirror_mode": {
    "name": "ipython",
    "version": 2
   },
   "file_extension": ".py",
   "mimetype": "text/x-python",
   "name": "python",
   "nbconvert_exporter": "python",
   "pygments_lexer": "ipython2",
   "version": "2.7.17"
  },
  "orig_nbformat": 2
 },
 "nbformat": 4,
 "nbformat_minor": 2
}